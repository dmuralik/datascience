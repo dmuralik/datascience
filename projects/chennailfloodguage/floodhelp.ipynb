{
 "cells": [
  {
   "cell_type": "code",
   "execution_count": 16,
   "metadata": {
    "collapsed": false
   },
   "outputs": [
    {
     "name": "stdout",
     "output_type": "stream",
     "text": [
      "9894949878\n",
      "\n",
      "\n",
      "9094870608\n",
      "\n",
      "\n",
      "8220777108\n",
      "\n",
      "\n",
      "8220777108\n",
      "\n",
      "\n",
      "9952001888\n",
      "\n",
      "\n",
      "9952001888\n",
      "\n",
      "\n",
      "9894949878\n",
      "\n",
      "\n",
      "9952001888\n",
      "\n",
      "\n",
      "8220777108\n",
      "\n",
      "\n",
      "9894949878\n",
      "\n",
      "\n",
      "9894949878\n",
      "\n",
      "\n",
      "9894949878\n",
      "\n",
      "\n",
      "9894949878\n",
      "\n",
      "\n",
      "9710974628\n",
      "\n",
      "\n",
      "8220777108\n",
      "\n",
      "\n",
      "9094870608\n",
      "\n",
      "\n",
      "9952001888\n",
      "\n",
      "\n",
      "9087709494\n",
      "\n",
      "\n",
      "9094870608\n",
      "\n",
      "\n"
     ]
    }
   ],
   "source": [
    "from twython import Twython\n",
    "import re\n",
    "\n",
    "APP_KEY = 'MC3NUUTUL4Qpp2sRgfAjSnFqB'\n",
    "APP_SECRET = 'CEaH5Jz0I4ED8D3ZIK0n4uNu8ZjMfhoSIbziT0i1r06TwYx68R'\n",
    "OAUTH_TOKEN = '18395318-YcHU9RsV8tSx3QXzxDYZ0FNpDpLLzbnyD99AjSOkh'\n",
    "OAUTH_TOKEN_SECRET = '2YrKuyVPKYOY1lfhSfbBeiPqSa0epm5WMm2bfFxMi26qd'\n",
    "\n",
    "twitter = Twython(APP_KEY, APP_SECRET,\n",
    "                  OAUTH_TOKEN, OAUTH_TOKEN_SECRET)\n",
    "#twitter.verify_credentials()\n",
    "#results = twitter.search(q='#ChennaiRainsHelp')\n",
    "#results = twitter.cursor(twitter.search, q='#ChennaiRainsHelp')\n",
    "results = twitter.search(q='#ChennaiRainsHelp',   #**supply whatever query you want here**\n",
    "                  count=100)\n",
    "tweets = results['statuses']\n",
    "searchForOffers = ['food', 'water', 'packet', 'blanket', 'packets', 'blankets']\n",
    "searchForNeeds = ['need', 'want', 'wanted']\n",
    "phoneNoPattern = re.compile('\\d{10}')\n",
    "for tweet in tweets:\n",
    "    if any(word in tweet['text'].lower() for word in searchForNeeds):\n",
    "        neededContact = phoneNoPattern.search(tweet['text'])\n",
    "        if neededContact:\n",
    "            print(neededContact.group() + '\\n\\n')\n",
    "    elif any(word in tweet['text'].lower() for word in searchForOffers):\n",
    "        offeredContact = phoneNoPattern.search(tweet['text'])\n",
    "        if offeredContact:\n",
    "            print(offeredContact.group() + '\\n\\n')\n",
    "        "
   ]
  },
  {
   "cell_type": "code",
   "execution_count": null,
   "metadata": {
    "collapsed": true
   },
   "outputs": [],
   "source": []
  }
 ],
 "metadata": {
  "kernelspec": {
   "display_name": "Python 3",
   "language": "python",
   "name": "python3"
  },
  "language_info": {
   "codemirror_mode": {
    "name": "ipython",
    "version": 3
   },
   "file_extension": ".py",
   "mimetype": "text/x-python",
   "name": "python",
   "nbconvert_exporter": "python",
   "pygments_lexer": "ipython3",
   "version": "3.4.3"
  }
 },
 "nbformat": 4,
 "nbformat_minor": 0
}
