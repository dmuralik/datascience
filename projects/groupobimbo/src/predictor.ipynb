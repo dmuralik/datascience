{
 "cells": [
  {
   "cell_type": "code",
   "execution_count": null,
   "metadata": {
    "collapsed": false,
    "scrolled": true
   },
   "outputs": [
    {
     "name": "stdout",
     "output_type": "stream",
     "text": [
      "815985104\n"
     ]
    }
   ],
   "source": [
    "import pandas as pd\n",
    "from sklearn.grid_search import RandomizedSearchCV\n",
    "from sklearn.linear_model import LinearRegression\n",
    "from sklearn.cross_validation import train_test_split\n",
    "import numpy as np\n",
    "from sklearn.cross_validation import cross_val_score\n",
    "import matplotlib\n",
    "import seaborn as sb\n",
    "\n",
    "%matplotlib inline\n",
    "\n",
    "table_split = {'sales_prd': ['Semana','Agencia_ID','Canal_ID','Ruta_SAK','Cliente_ID','Producto_ID'],\n",
    "              'sales_rtn':['Semana','Venta_uni_hoy','Venta_hoy','Dev_uni_proxima','Dev_proxima', 'Demanda_uni_equil']}\n",
    "\n",
    "\n",
    "store = pd.HDFStore('../data/mystore.h5') \n",
    "model = LinearRegression()\n",
    "\n",
    "#store.create_table_index('sales_prd', columns = ['Semana','Cliente_ID','Producto_ID','Venta_uni_hoy','Venta_hoy','Dev_uni_proxima','Dev_proxima']\\\n",
    "                        #,optlevel=9, kind='full')\n",
    "\n",
    "tempdf = pd.read_hdf('../data/mystore.h5', chunksize = 200000)\n",
    "df = pd.concat(tempdf)\n",
    "df = df.rename(columns = {'Semana':'WeekNum','Venta_uni_hoy':'SaleUnits','Venta_hoy':'SaleNum',\\\n",
    "                'Dev_uni_proxima':'ReturnUnits','Dev_proxima':'ReturnNum', 'Demanda_uni_equil':'Demand',\\\n",
    "                'Agencia_ID':'SalesDepotId','Canal_ID':'SalesChannelId','Ruta_SAK':'RouteId','Cliente_ID':'ClientId',\\\n",
    "                'Producto_ID':'ProductId'})\n",
    "print(df.size)\n",
    "#sb.barplot(data = df, x = ['WeekNum'], y=['SaleUnits'])\n",
    "#sb.pairplot(x_vars = ['WeekNum'], y_vars = ['SaleUnits','ReturnUnits'], data = df, size = 8)\n",
    "\n",
    "saletrain, saletest, saleLabelTrain, saleLabelTest = train_test_split(df, df['SaleUnits'], test_size = 0.4)    \n",
    "%time print(np.sqrt(-cross_val_score(model, saletrain, saleLabelTrain, cv=10, scoring='mean_squared_error')).mean())\n",
    "\n",
    "# create a store\n",
    "\n",
    "#for iterator in pd.read_csv('../data/train.csv', iterator = True, chunksize = 200000):\n",
    "#    store.append('df', iterator, data_columns = ['Semana','Cliente_ID','Producto_ID',\\\n",
    "#                    'Venta_uni_hoy','Venta_hoy','Dev_uni_proxima','Dev_proxima'], index = False)\n",
    "#store.create_table_index('df', \n",
    "#                         columns = ['Semana','Cliente_ID','Producto_ID','Venta_uni_hoy',\\\n",
    "#                                        'Venta_hoy','Dev_uni_proxima','Dev_proxima'],\n",
    "#                         optlevel=9, \n",
    "#                      kind='full'\n",
    "#                        )\n",
    "\n",
    "\n",
    "\n",
    "    \n"
   ]
  }
 ],
 "metadata": {
  "kernelspec": {
   "display_name": "Python 3",
   "language": "python",
   "name": "python3"
  },
  "language_info": {
   "codemirror_mode": {
    "name": "ipython",
    "version": 3
   },
   "file_extension": ".py",
   "mimetype": "text/x-python",
   "name": "python",
   "nbconvert_exporter": "python",
   "pygments_lexer": "ipython3",
   "version": "3.5.1"
  }
 },
 "nbformat": 4,
 "nbformat_minor": 0
}
