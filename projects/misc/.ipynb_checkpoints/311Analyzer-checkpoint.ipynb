{
 "cells": [
  {
   "cell_type": "code",
   "execution_count": null,
   "metadata": {
    "collapsed": false
   },
   "outputs": [],
   "source": [
    "import pandas as pd\n",
    "\n",
    "raw = pd.read_csv('/Users/dmurali/Downloads/nyc311calls.csv')\n",
    "\n",
    "#print(raw['Unique Key'].values.size)\n",
    "#print(raw.groupby('Agency').size().order(ascending=False))\n",
    "#print(raw.groupby('Complaint Type').size().order()[:20])\n",
    "#print(raw.groupby('Borough').size().order()[:20])\n",
    "#print(raw.groupby(['Complaint Type','Borough']).size().order(ascending=False)[:50])\n",
    "#print(raw[raw['Complaint Type']=='Unspecified'].groupby('Complaint Type').size().order())\n",
    "wholeHour = [pd.DatetimeIndex(raw['Created Date']).hour if(mn==0) else -1 for mn in pd.DatetimeIndex(raw['Created Date']).minute]\n",
    "raw['wholeHour'] = wholeHour\n",
    "print(raw.groupby('wholeHour').size().order(ascending=False)[:5])\n",
    "print(raw.groupby('wholeHour').size().order()[:5])"
   ]
  },
  {
   "cell_type": "code",
   "execution_count": null,
   "metadata": {
    "collapsed": true
   },
   "outputs": [],
   "source": []
  }
 ],
 "metadata": {
  "kernelspec": {
   "display_name": "Python 3",
   "language": "python",
   "name": "python3"
  },
  "language_info": {
   "codemirror_mode": {
    "name": "ipython",
    "version": 3
   },
   "file_extension": ".py",
   "mimetype": "text/x-python",
   "name": "python",
   "nbconvert_exporter": "python",
   "pygments_lexer": "ipython3",
   "version": "3.4.3"
  }
 },
 "nbformat": 4,
 "nbformat_minor": 0
}
