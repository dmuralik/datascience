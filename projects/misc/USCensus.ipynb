{
 "cells": [
  {
   "cell_type": "code",
   "execution_count": 43,
   "metadata": {
    "collapsed": false
   },
   "outputs": [],
   "source": [
    "import requests\n",
    "import pandas as pd\n",
    "\n",
    "\n",
    "sourceUrl = 'http://api.census.gov/data/2014/acs1/profile?get=DP05_0040PM,NAME&for=place:*&key=a378aa61805ec039a0753ea7c31bdde4514f72e9'\n",
    "response = requests.get(sourceUrl)\n",
    "df = pd.DataFrame(response.json())\n",
    "df = df[1:]\n",
    "demo = pd.DataFrame()\n",
    "demo['percent'] = df[df[0] != 'N'][0]\n",
    "demo['location'] = df[df[0] != 'N'][1]\n",
    "demo['city'] = demo['location'].str.split(',').str.get(0)\n",
    "demo['state'] = demo['location'].str.split(',').str.get(1)\n",
    "\n"
   ]
  }
 ],
 "metadata": {
  "kernelspec": {
   "display_name": "Python 3",
   "language": "python",
   "name": "python3"
  },
  "language_info": {
   "codemirror_mode": {
    "name": "ipython",
    "version": 3
   },
   "file_extension": ".py",
   "mimetype": "text/x-python",
   "name": "python",
   "nbconvert_exporter": "python",
   "pygments_lexer": "ipython3",
   "version": "3.5.1"
  }
 },
 "nbformat": 4,
 "nbformat_minor": 0
}
