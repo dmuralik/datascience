{
 "cells": [
  {
   "cell_type": "code",
   "execution_count": 43,
   "metadata": {
    "collapsed": false,
    "scrolled": true
   },
   "outputs": [
    {
     "name": "stdout",
     "output_type": "stream",
     "text": [
      "      0                               1   2      3\n",
      "1     N        Birmingham city, Alabama  01  07000\n",
      "2     N            Dothan city, Alabama  01  21184\n",
      "3     N            Hoover city, Alabama  01  35896\n",
      "4   0.4        Huntsville city, Alabama  01  37000\n",
      "5     N            Mobile city, Alabama  01  50000\n",
      "6     N        Montgomery city, Alabama  01  51000\n",
      "7     N        Tuscaloosa city, Alabama  01  77256\n",
      "8   0.1  Anchorage municipality, Alaska  02  03000\n",
      "9     N          Avondale city, Arizona  04  04720\n",
      "10    N       Casas Adobes CDP, Arizona  04  10670\n"
     ]
    }
   ],
   "source": [
    "import requests\n",
    "import pandas as pd\n",
    "import folium\n",
    "from geopy.geocoders import Nominatim\n",
    "import numpy as np\n",
    "\n",
    "sourceUrl = 'http://api.census.gov/data/2014/acs1/profile?get=DP05_0040PM,NAME&for=place:*&key=a378aa61805ec039a0753ea7c31bdde4514f72e9'\n",
    "response = requests.get(sourceUrl)\n",
    "df = pd.DataFrame(response.json())\n",
    "df = df[1:]\n",
    "print(df[:10])\n",
    "demo = pd.DataFrame()\n",
    "demo['percent'] = df[df[0] != 'N'][0]\n",
    "demo['location'] = df[df[0] != 'N'][1]\n",
    "demo['city'] = demo['location'].str.split(',').str.get(0)\n",
    "demo['state'] = demo['location'].str.split(',').str.get(1)\n",
    "bypercent = demo.sort_values(by = 'percent', ascending = False)[:100]\n",
    "\n",
    "sourceUrl = 'http://api.census.gov/data/2014/acs5?get=NAME,B01001_001E&for=state:*&key=a378aa61805ec039a0753ea7c31bdde4514f72e9'\n",
    "response = requests.get(sourceUrl)\n",
    "df = pd.DataFrame(response.json())\n",
    "df = df[1:]\n",
    "population = []\n",
    "for index,row in bypercent.iterrows():\n",
    "    state = np.asarray(df[df[0] == str(row['state']).strip()][1])\n",
    "    population.append(state[0] if state.size > 0 else None)\n",
    "\n",
    "bypercent['state population'] = population\n",
    "\n",
    "\n",
    "\n",
    "\n"
   ]
  }
 ],
 "metadata": {
  "kernelspec": {
   "display_name": "Python 3",
   "language": "python",
   "name": "python3"
  },
  "language_info": {
   "codemirror_mode": {
    "name": "ipython",
    "version": 3
   },
   "file_extension": ".py",
   "mimetype": "text/x-python",
   "name": "python",
   "nbconvert_exporter": "python",
   "pygments_lexer": "ipython3",
   "version": "3.5.1"
  }
 },
 "nbformat": 4,
 "nbformat_minor": 0
}
