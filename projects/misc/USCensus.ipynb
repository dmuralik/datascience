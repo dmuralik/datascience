{
 "cells": [
  {
   "cell_type": "code",
   "execution_count": 16,
   "metadata": {
    "collapsed": false,
    "scrolled": true
   },
   "outputs": [
    {
     "data": {
      "text/plain": [
       "<matplotlib.axes._subplots.AxesSubplot at 0x8a25278>"
      ]
     },
     "execution_count": 16,
     "metadata": {},
     "output_type": "execute_result"
    },
    {
     "data": {
      "image/png": "[encoded data removed]",
      "text/plain": [
       "<matplotlib.figure.Figure at 0x91cd400>"
      ]
     },
     "metadata": {},
     "output_type": "display_data"
    }
   ],
   "source": [
    "import requests\n",
    "import pandas as pd\n",
    "import folium\n",
    "from geopy.geocoders import Nominatim\n",
    "import numpy as np\n",
    "import matplotlib\n",
    "\n",
    "%matplotlib inline\n",
    "sourceUrl = 'http://api.census.gov/data/2014/acs1/profile?get=DP05_0040PE,DP05_0040E,DP02_0002PE,DP02_0004PE,DP02_0006PE,DP02_0007PE,\\\n",
    "DP02_0086PE,DP02_0092PE,DP02_0112PE,DP03_0021PE,DP03_0024PE,DP03_0028PE,\\\n",
    "DP03_0087E,DP03_0088E,DP04_0132E,DP05_0033PE,DP05_0056PE,NAME&for=place:*&key=a378aa61805ec039a0753ea7c31bdde4514f72e9'\n",
    "response = requests.get(sourceUrl)\n",
    "df = pd.DataFrame(response.json())\n",
    "df = df[1:]\n",
    "demo = pd.DataFrame()\n",
    "demo['Asian_Indian_Percent'] = df[df[0] != 'N'][0]\n",
    "demo['Asian_Indian_Total'] = df[df[0] != 'N'][1]\n",
    "demo['Asian_Indian_Total'] = pd.to_numeric(demo['Asian_Indian_Total'], errors='coerce')\n",
    "demo['Family_Households_Percent'] = df[df[0] != 'N'][2]\n",
    "demo['Married_Couple_Family_Percent'] = df[df[0] != 'N'][3]\n",
    "demo['Householder_Male_No_Wife_Percent'] = df[df[0] != 'N'][4]\n",
    "demo['Householder_Male_No_Wife_Children_Under18_Percent'] = df[df[0] != 'N'][5]\n",
    "demo['Total_Population'] = df[df[0] != 'N'][6]\n",
    "demo['Foreign_Born_Percent'] = df[df[0] != 'N'][7]\n",
    "demo['Language_NonEnglish_Percent'] = df[df[0] != 'N'][8]\n",
    "demo['Commute_Public_Transport_Percent'] = df[df[0] != 'N'][9]\n",
    "demo['Commute_WorkedAtHome_Percent'] = df[df[0] != 'N'][10]\n",
    "demo['Occupation_Service_Percent'] = df[df[0] != 'N'][11]\n",
    "demo['Income_Family_Average'] = df[df[0] != 'N'][12]\n",
    "demo['Income_Family_Percapita'] = df[df[0] != 'N'][13]\n",
    "demo['Income_Family_Percapita'] = pd.to_numeric(demo['Income_Family_Percapita'], errors = 'coerce')\n",
    "demo['Rent_Median'] = df[df[0] != 'N'][14]\n",
    "demo['Rent_Median'] = pd.to_numeric(demo['Rent_Median'], errors = 'coerce')\n",
    "demo['Race_Black_Or_African_American'] = df[df[0] != 'N'][15]\n",
    "demo['Race_White_And_Asian'] = df[df[0] != 'N'][16]\n",
    "demo['location'] = df[df[0] != 'N'][17]\n",
    "demo['city'] = demo['location'].str.split(',').str.get(0)\n",
    "demo['state'] = demo['location'].str.split(',').str.get(1)\n",
    "#bypercent = demo.sort_values(by = 'percent', ascending = False)[:100]\n",
    "asianindiansorted = demo.sort_values(by = 'Asian_Indian_Total', ascending = False)\n",
    "asianindiansorted = asianindiansorted.fillna(0)\n",
    "asianindiansorted.replace(to_replace = {'Race_White_And_Asian': {'N': 0}},inplace = True)\n",
    "asianindiansorted['Asian_Indian_Z'] = (asianindiansorted['Asian_Indian_Total'][1:] - \\\n",
    "                                       asianindiansorted['Asian_Indian_Total'][1:].mean())/asianindiansorted['Asian_Indian_Total'][1:].std(ddof = 0)\n",
    "\n",
    "asianindiansorted['Income_Family_Percapita_Z'] = (asianindiansorted['Income_Family_Percapita'][1:] - \\\n",
    "                                       asianindiansorted['Income_Family_Percapita'][1:].mean())/asianindiansorted['Income_Family_Percapita'][1:].std(ddof = 0)\n",
    "\n",
    "asianindiansorted['Rent_Median_Z'] = (asianindiansorted['Rent_Median'][1:] - \\\n",
    "                                       asianindiansorted['Rent_Median'][1:].mean())/asianindiansorted['Rent_Median'][1:].std(ddof = 0)\n",
    "#asianindiansorted\n",
    "asianindiansorted.plot.scatter(x = 'Asian_Indian_Z', y = 'Rent_Median_Z')\n",
    "\n",
    "#asianindiansorted.ix[:,'Commute_Public_Transport_Percent':]\n",
    "#sourceUrl = 'http://api.census.gov/data/2014/acs5?get=NAME,B01001_001E&for=state:*&key=a378aa61805ec039a0753ea7c31bdde4514f72e9'\n",
    "#response = requests.get(sourceUrl)\n",
    "#df = pd.DataFrame(response.json())\n",
    "#df = df[1:]\n",
    "#population = []\n",
    "#for index,row in bypercent.iterrows():\n",
    "    #state = np.asarray(df[df[0] == str(row['state']).strip()][1])\n",
    "    #population.append(state[0] if state.size > 0 else None)\n",
    "\n",
    "#bypercent['state population'] = population\n",
    "\n",
    "\n",
    "\n",
    "\n"
   ]
  }
 ],
 "metadata": {
  "kernelspec": {
   "display_name": "Python 3",
   "language": "python",
   "name": "python3"
  },
  "language_info": {
   "codemirror_mode": {
    "name": "ipython",
    "version": 3
   },
   "file_extension": ".py",
   "mimetype": "text/x-python",
   "name": "python",
   "nbconvert_exporter": "python",
   "pygments_lexer": "ipython3",
   "version": "3.5.1"
  }
 },
 "nbformat": 4,
 "nbformat_minor": 0
}
