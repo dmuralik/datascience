{
 "cells": [
  {
   "cell_type": "code",
   "execution_count": 57,
   "metadata": {
    "collapsed": false
   },
   "outputs": [
    {
     "data": {
      "text/plain": [
       "Index(['Table Name', 'State Code', 'District Code', 'Area Name',\n",
       "       'Total/ Rural/Urban', 'Present Age', 'Total Women',\n",
       "       'Total Ever Married Women', 'Total Ever Married Women - Parity - 0',\n",
       "       'Total Ever Married Women - Parity - 1',\n",
       "       'Total Ever Married Women - Parity - 2',\n",
       "       'Total Ever Married Women - Parity - 3',\n",
       "       'Total Ever Married Women - Parity - 4',\n",
       "       'Total Ever Married Women - Parity - 5',\n",
       "       'Total Ever Married Women - Parity - 6',\n",
       "       'Total Ever Married Women - Parity - 7+',\n",
       "       'Total Children Ever Born - Persons', 'Total Children Ever Born - Male',\n",
       "       'Total Children Ever Born - Female'],\n",
       "      dtype='object')"
      ]
     },
     "execution_count": 57,
     "metadata": {},
     "output_type": "execute_result"
    }
   ],
   "source": [
    "import pandas as pd\n",
    "\n",
    "data = pd.read_csv(\"C:\\\\Users\\\\muralid\\\\Documents\\\\Personal\\\\Datasets\\\\TN_2011_Marital_Status.csv\")\n",
    "data.columns\n",
    "#data['Total Ever Married Women']\n"
   ]
  },
  {
   "cell_type": "code",
   "execution_count": 66,
   "metadata": {
    "collapsed": false
   },
   "outputs": [
    {
     "name": "stdout",
     "output_type": "stream",
     "text": [
      "total percent for <15: 0.79\n",
      "rural percent for <15: 0.73\n",
      "urban percent for <15: 0.85\n",
      "total percent for 15-19: 15.12\n",
      "rural percent for 15-19: 15.90\n",
      "urban percent for 15-19: 14.24\n",
      "total percent with kids for <15: 0.34\n",
      "rural percent with kids for <15: 0.32\n",
      "urban percent with kids for <15: 0.36\n",
      "total percent with kids for 15-19: 5.80\n",
      "rural percent with kids for 15-19: 6.49\n",
      "urban percent with kids for 15-19: 5.01\n"
     ]
    }
   ],
   "source": [
    "import pandas as pd\n",
    "\n",
    "data = pd.read_csv(\"C:\\\\Users\\\\muralid\\\\Documents\\\\Personal\\\\Datasets\\\\TN_2011_Marital_Status.csv\")\n",
    "\n",
    "lessthan15 = data[(data['Present Age'] == 'Less than 15') & (data['Total/ Rural/Urban'] == 'Total')]\n",
    "lessthan15rural = data[(data['Present Age'] == 'Less than 15') & (data['Total/ Rural/Urban'] == 'Rural')]\n",
    "lessthan15urban = data[(data['Present Age'] == 'Less than 15') & (data['Total/ Rural/Urban'] == 'Urban')]\n",
    "fifteento19 = data[(data['Present Age'] == '15-19') & (data['Total/ Rural/Urban'] == 'Total')]\n",
    "fifteento19rural = data[(data['Present Age'] == '15-19') & (data['Total/ Rural/Urban'] == 'Rural')]\n",
    "fifteento19urban = data[(data['Present Age'] == '15-19') & (data['Total/ Rural/Urban'] == 'Urban')]\n",
    "print('total percent for <15: %.2f' %(lessthan15['Total Ever Married Women'].sum()/lessthan15['Total Women'].sum()*100))\n",
    "print('rural percent for <15: %.2f' %(lessthan15rural['Total Ever Married Women'].sum()/lessthan15rural['Total Women'].sum()*100))\n",
    "print('urban percent for <15: %.2f' %(lessthan15urban['Total Ever Married Women'].sum()/lessthan15urban['Total Women'].sum()*100))\n",
    "print('total percent for 15-19: %.2f' %(fifteento19['Total Ever Married Women'].sum()/fifteento19['Total Women'].sum()*100))\n",
    "print('rural percent for 15-19: %.2f' %(fifteento19rural['Total Ever Married Women'].sum()/fifteento19rural['Total Women'].sum()*100))\n",
    "print('urban percent for 15-19: %.2f' %(fifteento19urban['Total Ever Married Women'].sum()/fifteento19urban['Total Women'].sum()*100))\n",
    "\n",
    "#kids\n",
    "print('total percent with kids for <15: %.2f' %(lessthan15['Total Children Ever Born - Persons'].sum()/lessthan15['Total Women'].sum()*100))\n",
    "print('rural percent with kids for <15: %.2f' %(lessthan15rural['Total Children Ever Born - Persons'].sum()/lessthan15rural['Total Women'].sum()*100))\n",
    "print('urban percent with kids for <15: %.2f' %(lessthan15urban['Total Children Ever Born - Persons'].sum()/lessthan15urban['Total Women'].sum()*100))\n",
    "print('total percent with kids for 15-19: %.2f' %(fifteento19['Total Children Ever Born - Persons'].sum()/fifteento19['Total Women'].sum()*100))\n",
    "print('rural percent with kids for 15-19: %.2f' %(fifteento19rural['Total Children Ever Born - Persons'].sum()/fifteento19rural['Total Women'].sum()*100))\n",
    "print('urban percent with kids for 15-19: %.2f' %(fifteento19urban['Total Children Ever Born - Persons'].sum()/fifteento19urban['Total Women'].sum()*100))"
   ]
  }
 ],
 "metadata": {
  "kernelspec": {
   "display_name": "Python 3",
   "language": "python",
   "name": "python3"
  },
  "language_info": {
   "codemirror_mode": {
    "name": "ipython",
    "version": 3
   },
   "file_extension": ".py",
   "mimetype": "text/x-python",
   "name": "python",
   "nbconvert_exporter": "python",
   "pygments_lexer": "ipython3",
   "version": "3.5.1"
  }
 },
 "nbformat": 4,
 "nbformat_minor": 0
}
