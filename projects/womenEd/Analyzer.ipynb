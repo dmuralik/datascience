{
 "cells": [
  {
   "cell_type": "code",
   "execution_count": 41,
   "metadata": {
    "collapsed": false
   },
   "outputs": [
    {
     "name": "stdout",
     "output_type": "stream",
     "text": [
      "                      Id                                               Name\n",
      "0         FP.CPI.TOTL.ZG              Inflation, consumer prices (annual %)\n",
      "1         IC.FRM.FEMM.ZS         Firms with female top manager (% of firms)\n",
      "2         IC.FRM.FEMO.ZS  Firms with female participation in ownership (...\n",
      "3      IT.CEL.SETS.FE.ZS  Mobile cellular telephone users, female (% of ...\n",
      "4      IT.CEL.SETS.MA.ZS  Mobile cellular telephone users, male (% of po...\n",
      "5      IT.NET.USER.FE.ZS                         Internet users, female (%)\n",
      "6      IT.NET.USER.MA.ZS                           Internet users, male (%)\n",
      "7         NY.GDP.MKTP.CD                                  GDP (current US$)\n",
      "8      NY.GDP.MKTP.KD.ZS                               GDP growth (annual%)\n",
      "9         NY.GDP.PCAP.CD                       GDP per capita (current US$)\n",
      "10        NY.GNP.ATLS.CD                    GNI, Atlas method (current US$)\n",
      "11        NY.GNP.PCAP.CD         GNI per capita, Atlas method (current US$)\n",
      "12     NY.GNP.PCAP.PP.CD      GNI per capita, PPP (current international $)\n",
      "13  SE.ADT.1524.LT.FE.ZS  Literacy rate, youth female (% of females ages...\n",
      "14  SE.ADT.1524.LT.FM.ZS  Literacy rate, youth (ages 15-24), gender pari...\n",
      "15  SE.ADT.1524.LT.MA.ZS  Literacy rate, youth male (% of males ages 15-24)\n",
      "16     SE.ADT.LITR.FE.ZS  Literacy rate, adult female (% of females ages...\n",
      "17     SE.ADT.LITR.MA.ZS  Literacy rate, adult male (% of males ages 15 ...\n",
      "18     SE.ENR.PRIM.FM.ZS  School enrollment, primary (gross), gender par...\n",
      "19     SE.ENR.PRSC.FM.ZS  School enrollment, primary and secondary (gros...\n",
      "20     SE.ENR.SECO.FM.ZS  School enrollment, secondary (gross), gender p...\n",
      "21     SE.ENR.TERT.FM.ZS  School enrollment, tertiary (gross), gender pa...\n",
      "22     SE.PRM.CMPT.FE.ZS  Primary completion rate, female (% of relevant...\n",
      "23     SE.PRM.CMPT.MA.ZS  Primary completion rate, male (% of relevant a...\n",
      "24     SE.PRM.ENRL.FE.ZS               Primary education, pupils (% female)\n",
      "25        SE.PRM.ENRR.FE       School enrollment, primary, female (% gross)\n",
      "26        SE.PRM.ENRR.MA         School enrollment, primary, male (% gross)\n",
      "27        SE.PRM.NENR.FE         School enrollment, primary, female (% net)\n",
      "28        SE.PRM.NENR.MA           School enrollment, primary, male (% net)\n",
      "29     SE.PRM.NINT.FE.ZS  Net intake rate in grade 1, female (% of offic...\n",
      "30     SE.PRM.NINT.MA.ZS  Net intake rate in grade 1, male (% of officia...\n",
      "31     SE.PRM.PRS5.FE.ZS       Persistence to grade 5, female (% of cohort)\n",
      "32     SE.PRM.PRS5.MA.ZS         Persistence to grade 5, male (% of cohort)\n",
      "33     SE.PRM.TCHR.FE.ZS             Primary education, teachers (% female)\n",
      "34        SE.PRM.TENR.FE  Adjusted net enrollment rate, primary, female ...\n",
      "35        SE.PRM.TENR.MA  Adjusted net enrollment rate, primary, male (%...\n",
      "36        SE.PRM.UNER.FE            Children out of school, primary, female\n",
      "37        SE.PRM.UNER.MA              Children out of school, primary, male\n",
      "38        SE.SCH.LIFE.FE                Expected years of schooling, female\n",
      "39        SE.SCH.LIFE.MA                  Expected years of schooling, male\n",
      "40     SE.SEC.ENRL.FE.ZS             Secondary education, pupils (% female)\n",
      "41        SE.SEC.ENRR.FE     School enrollment, secondary, female (% gross)\n",
      "42        SE.SEC.ENRR.MA       School enrollment, secondary, male (% gross)\n",
      "43        SE.SEC.NENR.FE       School enrollment, secondary, female (% net)\n",
      "44        SE.SEC.NENR.MA         School enrollment, secondary, male (% net)\n",
      "45     SE.SEC.PROG.FE.ZS        Progression to secondary school, female (%)\n",
      "46     SE.SEC.PROG.MA.ZS          Progression to secondary school, male (%)\n",
      "47     SE.SEC.TCHR.FE.ZS           Secondary education, teachers (% female)\n",
      "48        SE.TER.ENRR.FE      School enrollment, tertiary, female (% gross)\n",
      "49        SE.TER.ENRR.MA        School enrollment, tertiary, male (% gross)\n"
     ]
    },
    {
     "ename": "AttributeError",
     "evalue": "'Response' object has no attribute 'code'",
     "output_type": "error",
     "traceback": [
      "\u001b[0;31m---------------------------------------------------------------------------\u001b[0m",
      "\u001b[0;31mAttributeError\u001b[0m                            Traceback (most recent call last)",
      "\u001b[0;32m<ipython-input-41-5028fa794de5>\u001b[0m in \u001b[0;36m<module>\u001b[0;34m()\u001b[0m\n\u001b[1;32m     37\u001b[0m \u001b[0mindicatorUrl\u001b[0m \u001b[0;34m=\u001b[0m \u001b[0;34m'http://api.worldbank.org/countries/all/indicators/FP.CPI.TOTL.ZG?format=json'\u001b[0m\u001b[0;34m\u001b[0m\u001b[0m\n\u001b[1;32m     38\u001b[0m \u001b[0mresponse\u001b[0m \u001b[0;34m=\u001b[0m \u001b[0mrequests\u001b[0m\u001b[0;34m.\u001b[0m\u001b[0mpost\u001b[0m\u001b[0;34m(\u001b[0m\u001b[0mindicatorUrl\u001b[0m\u001b[0;34m)\u001b[0m\u001b[0;34m\u001b[0m\u001b[0m\n\u001b[0;32m---> 39\u001b[0;31m \u001b[0mprint\u001b[0m\u001b[0;34m(\u001b[0m\u001b[0mresponse\u001b[0m\u001b[0;34m.\u001b[0m\u001b[0mcode\u001b[0m\u001b[0;34m)\u001b[0m\u001b[0;34m\u001b[0m\u001b[0m\n\u001b[0m\u001b[1;32m     40\u001b[0m \u001b[0;31m#for row in genderIndicators.itertuples():\u001b[0m\u001b[0;34m\u001b[0m\u001b[0;34m\u001b[0m\u001b[0m\n\u001b[1;32m     41\u001b[0m     \u001b[0;31m#response = requests.post(indicatorUrl + row[1])\u001b[0m\u001b[0;34m\u001b[0m\u001b[0;34m\u001b[0m\u001b[0m\n",
      "\u001b[0;31mAttributeError\u001b[0m: 'Response' object has no attribute 'code'"
     ]
    }
   ],
   "source": [
    "import requests, json\n",
    "import pandas as pd\n",
    "import xml.etree.ElementTree as ET\n",
    "\n",
    "#extract the sources\n",
    "sourcesUrl = 'http://api.worldbank.org/sources?format=json'\n",
    "response = requests.post(sourcesUrl)\n",
    "sources = pd.DataFrame(response.json()[1])\n",
    "sources.drop(['description', 'url'], inplace = True, axis = 1)\n",
    "\n",
    "#get data for gender statistics\n",
    "genderStatId = sources[sources.name == 'Gender Statistics'].id.values[0]\n",
    "genderStatUrl = 'http://api.worldbank.org/source/' + genderStatId + '/indicators'  \n",
    "response = requests.post(genderStatUrl)\n",
    "root = ET.fromstring(response.content)\n",
    "\n",
    "elementPrefix = '{http://www.worldbank.org}'\n",
    "indicatorId = []\n",
    "indicatorNames = []\n",
    "for indicator in root.iter(elementPrefix+'indicator'):\n",
    "    indicatorId.append(indicator.attrib['id'])\n",
    "for name in root.iter(elementPrefix+'name'):\n",
    "    indicatorNames.append(name.text)\n",
    "genderIndicators = pd.DataFrame(indicatorId, columns = ['Id'])\n",
    "genderIndicators['Name'] = indicatorNames\n",
    "\n",
    "countriesUrl = 'http://api.worldbank.org/countries?per_page=300&format=json'\n",
    "response = requests.post(countriesUrl)\n",
    "countries = pd.DataFrame(response.json()[1])\n",
    "print(genderIndicators)\n",
    "#264 (countries) *54(1960 until 2014)*50(indicators) = 712800 data points just for gender statistics - 45mb\n",
    "#WDI - 45mb\n",
    "#EdStats - 165mb\n",
    "#World Development Report 2013 on Jobs Statistical Tables - 1 mb\n",
    "#Global Financial Inclusion (Global Findex) Database - 17.5 mb\n",
    "\n",
    "indicatorUrl = 'http://api.worldbank.org/countries/all/indicators/FP.CPI.TOTL.ZG?format=json'\n",
    "response = requests.post(indicatorUrl)\n",
    "print(response.code)\n",
    "#for row in genderIndicators.itertuples():\n",
    "    #response = requests.post(indicatorUrl + row[1])\n",
    "    #print(response.content)\n",
    "    #break\n"
   ]
  },
  {
   "cell_type": "code",
   "execution_count": null,
   "metadata": {
    "collapsed": true
   },
   "outputs": [],
   "source": []
  }
 ],
 "metadata": {
  "kernelspec": {
   "display_name": "Python 3",
   "language": "python",
   "name": "python3"
  },
  "language_info": {
   "codemirror_mode": {
    "name": "ipython",
    "version": 3
   },
   "file_extension": ".py",
   "mimetype": "text/x-python",
   "name": "python",
   "nbconvert_exporter": "python",
   "pygments_lexer": "ipython3",
   "version": "3.4.3"
  }
 },
 "nbformat": 4,
 "nbformat_minor": 0
}
