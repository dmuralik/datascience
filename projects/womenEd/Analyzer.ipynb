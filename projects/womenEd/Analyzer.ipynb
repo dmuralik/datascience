{
 "cells": [
  {
   "cell_type": "code",
   "execution_count": 109,
   "metadata": {
    "collapsed": false
   },
   "outputs": [
    {
     "name": "stdout",
     "output_type": "stream",
     "text": [
      "50\n"
     ]
    }
   ],
   "source": [
    "import requests, json\n",
    "import pandas as pd\n",
    "import xml.etree.ElementTree as ET\n",
    "\n",
    "#extract the sources\n",
    "sourcesUrl = 'http://api.worldbank.org/sources?format=json'\n",
    "response = requests.post(sourcesUrl)\n",
    "sources = pd.DataFrame(response.json()[1])\n",
    "sources.drop(['description', 'url'], inplace = True, axis = 1)\n",
    "\n",
    "#get data for gender statistics\n",
    "genderStatId = sources[sources.name == 'Gender Statistics'].id.values[0]\n",
    "genderStatUrl = 'http://api.worldbank.org/source/' + genderStatId + '/indicators'  \n",
    "response = requests.post(genderStatUrl)\n",
    "root = ET.fromstring(response.content)\n",
    "\n",
    "elementPrefix = '{http://www.worldbank.org}'\n",
    "indicatorId = []\n",
    "indicatorNames = []\n",
    "for indicator in root.iter(elementPrefix+'indicator'):\n",
    "    indicatorId.append(indicator.attrib['id'])\n",
    "for name in root.iter(elementPrefix+'name'):\n",
    "    indicatorNames.append(name.text)\n",
    "genderIndicators = pd.DataFrame(indicatorId, columns = ['Id'])\n",
    "genderIndicators['Name'] = indicatorNames\n",
    "print(genderIndicators['Name'])\n",
    "\n",
    "countriesUrl = 'http://api.worldbank.org/countries?per_page=300&format=json'\n",
    "response = requests.post(countriesUrl)\n",
    "countries = pd.DataFrame(response.json()[1])\n",
    "\n",
    "#264 (countries) *54(1960 until 2014)*50(indicators) = 712800 data points just for gender statistics - 45mb\n",
    "#WDI - 45mb\n",
    "#EdStats - 165mb\n",
    "#World Development Report 2013 on Jobs Statistical Tables - 1 mb\n",
    "#Global Financial Inclusion (Global Findex) Database - 17.5 mb\n",
    "\n",
    "#indicatorUrl = 'http://api.worldbank.org/countries/all/indicators/'\n",
    "#for row in genderIndicators.itertuples():\n",
    "    #response = requests.post(indicatorUrl + row[1] + '?format=json')\n",
    "    #print(response.json())\n",
    "    #break\n"
   ]
  },
  {
   "cell_type": "code",
   "execution_count": null,
   "metadata": {
    "collapsed": true
   },
   "outputs": [],
   "source": []
  }
 ],
 "metadata": {
  "kernelspec": {
   "display_name": "Python 3",
   "language": "python",
   "name": "python3"
  },
  "language_info": {
   "codemirror_mode": {
    "name": "ipython",
    "version": 3
   },
   "file_extension": ".py",
   "mimetype": "text/x-python",
   "name": "python",
   "nbconvert_exporter": "python",
   "pygments_lexer": "ipython3",
   "version": "3.4.3"
  }
 },
 "nbformat": 4,
 "nbformat_minor": 0
}
