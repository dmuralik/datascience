{
 "cells": [
  {
   "cell_type": "code",
   "execution_count": 43,
   "metadata": {
    "collapsed": false
   },
   "outputs": [
    {
     "name": "stdout",
     "output_type": "stream",
     "text": [
      "(12525, 6)\n",
      "UserName\n",
      "Diane DeVillers             470\n",
      "Ana Isabel Paraguay         328\n",
      "Maya Muñoz-Tobón            194\n",
      "Mauwa Brigitte              154\n",
      "Dudziro Nhengu              124\n",
      "ANASOOYADEVIATHRISON        120\n",
      "Victoria Green              105\n",
      "Sister Zeph                 104\n",
      "Yvette Warren               104\n",
      "Martha                       97\n",
      "Ariane Assumani              93\n",
      "ikirimat                     84\n",
      "Kim Crane                    82\n",
      "Marie-Claire Kuja            72\n",
      "MADELEINE BWENGE             71\n",
      "Soumya Vilekar               68\n",
      "Chelsea Maricle              67\n",
      "Najwa Kareem                 65\n",
      "Tamarack Verrall             65\n",
      "Alyssa  Rust                 64\n",
      "Other Worlds                 60\n",
      "Sarah  Murali                60\n",
      "Adanna                       57\n",
      "sally  maforchi Mboumien     54\n",
      "Emily Garcia                 52\n",
      "coolasas                     50\n",
      "Mkandeh                      50\n",
      "ANNE CHIRUME                 50\n",
      "JANEKALU                     49\n",
      "muhorakeye esperance         48\n",
      "                           ... \n",
      "Mireille MUHIGWA              1\n",
      "francine minani               1\n",
      "Melody                        1\n",
      "francin                       1\n",
      "florence nangabire            1\n",
      "filston bitaha                1\n",
      "Menopause Woman               1\n",
      "Mensah Simon                  1\n",
      "Meryem                        1\n",
      "MichSeychelles                1\n",
      "faridbd                       1\n",
      "MilenaMajecka                 1\n",
      "Mimansha Rath                 1\n",
      "Minami                        1\n",
      "Miriam Priotti                1\n",
      "Molly Leach                   1\n",
      "Misitura Oyeyemi              1\n",
      "faprdc                        1\n",
      "Miss lizzy                    1\n",
      "faithbright                   1\n",
      "faheem.tariq                  1\n",
      "fagbejisesi                   1\n",
      "eyong rose teneng             1\n",
      "Moffat Osoro                  1\n",
      "Mohamed Abdelwahab            1\n",
      "Mohammad Haris                1\n",
      "evodiekivunanwa               1\n",
      "Mohsin Khan                   1\n",
      "Mojisola Sowemimo             1\n",
      "zulekha                       1\n",
      "dtype: int64\n"
     ]
    }
   ],
   "source": [
    "import pandas as pd\n",
    "\n",
    "df1 = pd.read_csv(\"c:\\\\users\\\\muralid\\\\Documents\\\\wpCommunity_1.csv\")\n",
    "df2 = pd.read_csv(\"c:\\\\users\\\\muralid\\\\Documents\\\\wpCommunity_2.csv\")\n",
    "frames = [df1, df2]\n",
    "df = pd.concat(frames)\n",
    "print(df.shape)\n",
    "#df[df['UserName'] == 'Diane DeVillers']\n",
    "#print(df.groupby('Country').size().sort_values(ascending = False))\n",
    "#print(df.groupby('UserName').size().sort_values(ascending = False))\n",
    "#print(df.groupby('UserName').sum().sort_values(by='Loves',ascending = False))\n",
    "#print(df.groupby('UserName').sum().sort_values(by='Encourages',ascending = False))\n",
    "#print(df.groupby('Country').sum().sort_values(by='Loves',ascending = False))\n",
    "#print(df.groupby('Country').sum().sort_values(by='Encourages',ascending = False))"
   ]
  }
 ],
 "metadata": {
  "kernelspec": {
   "display_name": "Python 3",
   "language": "python",
   "name": "python3"
  },
  "language_info": {
   "codemirror_mode": {
    "name": "ipython",
    "version": 3
   },
   "file_extension": ".py",
   "mimetype": "text/x-python",
   "name": "python",
   "nbconvert_exporter": "python",
   "pygments_lexer": "ipython3",
   "version": "3.5.1"
  }
 },
 "nbformat": 4,
 "nbformat_minor": 0
}
