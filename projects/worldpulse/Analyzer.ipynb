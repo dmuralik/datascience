{
 "cells": [
  {
   "cell_type": "code",
   "execution_count": 66,
   "metadata": {
    "collapsed": false
   },
   "outputs": [
    {
     "name": "stdout",
     "output_type": "stream",
     "text": [
      "    Year                           Country  numPosts\n",
      "0   2013  Democratic Republic of the Congo      1399\n",
      "1   2013                     United States      1193\n",
      "2   2014                     United States       986\n",
      "3   2012                     United States       859\n",
      "4   2015                     United States       803\n",
      "5   2014  Democratic Republic of the Congo       762\n",
      "6   2016                     United States       715\n",
      "7   2015  Democratic Republic of the Congo       691\n",
      "8   2011                     United States       687\n",
      "9   2012  Democratic Republic of the Congo       641\n",
      "10  2012                             India       498\n",
      "11  2013                           Nigeria       442\n",
      "12  2013                             India       407\n",
      "13  2016                           Nigeria       381\n",
      "14  2014                             India       340\n"
     ]
    },
    {
     "data": {
      "text/plain": [
       "<matplotlib.axes._subplots.AxesSubplot at 0x1185c4358>"
      ]
     },
     "execution_count": 66,
     "metadata": {},
     "output_type": "execute_result"
    },
    {
     "data": {
      "image/png": "[encoded data removed]",
      "text/plain": [
       "<matplotlib.figure.Figure at 0x11a492e80>"
      ]
     },
     "metadata": {},
     "output_type": "display_data"
    }
   ],
   "source": [
    "import pandas as pd\n",
    "import numpy as np\n",
    "from datetime import date, timedelta\n",
    "import datetime\n",
    "import seaborn as sns\n",
    "import matplotlib as mpl\n",
    "import matplotlib.pyplot as plt\n",
    "\n",
    "sns.set(style=\"whitegrid\", color_codes=True)\n",
    "%matplotlib inline\n",
    "\n",
    "df1 = pd.read_csv(\"//Users//dineshmurali//Documents//wpcommunitydata//wpCommunity_1.csv\")\n",
    "df2 = pd.read_csv(\"//Users//dineshmurali//Documents//wpcommunitydata//wpCommunity_2.csv\")\n",
    "df3 = pd.read_csv(\"//Users//dineshmurali//Documents//wpcommunitydata//wpCommunity_3.csv\")\n",
    "df4 = pd.read_csv(\"//Users//dineshmurali//Documents//wpcommunitydata//wpCommunity_4.csv\")\n",
    "df5 = pd.read_csv(\"//Users//dineshmurali//Documents//wpcommunitydata//wpCommunity_5.csv\")\n",
    "\n",
    "frames = [df1, df2, df3, df4, df5]\n",
    "df = pd.concat(frames)\n",
    "\n",
    "df['Date'] = np.where(df['Date'] == \"Today\", date.today().strftime(\"%B %d, %Y\"), df['Date'])\n",
    "df['Date'] = np.where(df['Date'] == \"Yesterday\", \n",
    "                      (date.today() - timedelta(1)).strftime(\"%B %d, %Y\"), \n",
    "                      df['Date'])\n",
    "df['Date'] = df['Date'].fillna(value = \"January 01, 1900\")\n",
    "df['Date'] = np.where(df.Date.str[-4:].str.isnumeric(), \n",
    "                      df['Date'], \n",
    "                      df['Date'] + ', ' + str(datetime.datetime.today().year))\n",
    "df['Country'] = df['Country'].fillna(value = 'Unknown')\n",
    "df['Date'] = pd.to_datetime(df.Date, format = \"%B %d, %Y\")\n",
    "df['YrMo'] = pd.DatetimeIndex(df.Date).strftime(\"%B%Y\")\n",
    "df['Year'] = pd.DatetimeIndex(df.Date).year\n",
    "\n",
    "#posts trend, esp from US\n",
    "#plot top 10 contributors\n",
    "#countries posts vs encouragement and love\n",
    "#encouragements by time and language\n",
    "\n",
    "#print(df1.shape)\n",
    "#df[df['UserName'] == 'Diane DeVillers']\n",
    "#print(df.groupby('Year').size().sort_values(ascending = False))\n",
    "#print(df.groupby(['Year','Country']).size().sort_values(ascending = False))\n",
    "#print(df.groupby('UserName').size().sort_values(ascending = False))\n",
    "#print(df.groupby('UserName').sum().sort_values(by='Loves',ascending = False))\n",
    "#print(df.groupby('UserName').sum().sort_values(by='Encourages',ascending = False))\n",
    "#print(df.groupby('Country').sum().sort_values(by='Loves',ascending = False))\n",
    "#print(df.groupby('Country').sum().sort_values(by='Encourages',ascending = False))\n",
    "#df[df.Year > 1900].groupby('Year').size().plot(title = \"Posts By Year\",\n",
    "#                                               legend = False)\n",
    "\n",
    "#df.groupby('Country').size().sort_values(ascending = False)[:10].plot(\n",
    "#    title = \"Posts By Country\", legend = False, kind = \"pie\")\n",
    "\n",
    "#df[(df.Country == \"United States\") & (df.Year > 1900)].groupby('UserName').size().sort_values(ascending = False)[:10].plot(title = \"Posts By User For US\", legend = False, kind = \"bar\")\n",
    "\n",
    "#df[(df.UserName == \"Diane DeVillers\")].groupby('Year').size().plot(\n",
    "#    title = \"Posts By Diane\", legend = False)\n",
    "\n",
    "#df[(df.UserName == \"Diane DeVillers\") & (df.Year > 1900)].groupby(\"Year\").size()\n",
    "byYearCountry = pd.DataFrame(df[df.Year > 1900].groupby(['Year','Country']).size().sort_values(ascending = False)[:15], \n",
    "                            columns = ['numPosts'])\n",
    "byYearCountry = byYearCountry.reset_index(level = ['Year','Country'])\n",
    "print(byYearCountry)\n",
    "sns.barplot(x=\"Year\", y=\"numPosts\", hue=\"Country\", data = byYearCountry)\n"
   ]
  }
 ],
 "metadata": {
  "kernelspec": {
   "display_name": "Python 3",
   "language": "python",
   "name": "python3"
  },
  "language_info": {
   "codemirror_mode": {
    "name": "ipython",
    "version": 3
   },
   "file_extension": ".py",
   "mimetype": "text/x-python",
   "name": "python",
   "nbconvert_exporter": "python",
   "pygments_lexer": "ipython3",
   "version": "3.5.1"
  }
 },
 "nbformat": 4,
 "nbformat_minor": 0
}
