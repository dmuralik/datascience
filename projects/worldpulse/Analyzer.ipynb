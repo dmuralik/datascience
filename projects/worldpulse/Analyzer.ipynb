{
 "cells": [
  {
   "cell_type": "code",
   "execution_count": 40,
   "metadata": {
    "collapsed": false
   },
   "outputs": [
    {
     "name": "stdout",
     "output_type": "stream",
     "text": [
      "(12525, 6)\n",
      "                          Encourages  Loves\n",
      "UserName                                   \n",
      "Martha                           148    215\n",
      "Kirthi                           259    191\n",
      "Olutosin                         490    184\n",
      "Olanike                          468    156\n",
      "Sister Zeph                      304    131\n",
      "Kim Crane                        448     98\n",
      "Ngassa Sophie Monkam             128     97\n",
      "Najwa Kareem                      53     86\n",
      "Tamarack Verrall                 314     85\n",
      "Nakinti                          346     84\n",
      "Celine                           123     83\n",
      "Mary Ero                          62     77\n",
      "Sharmiladhungana                  31     73\n",
      "Maya Muñoz-Tobón                 126     72\n",
      "Lily Habesha                     118     72\n",
      "Diane DeVillers                  156     70\n",
      "Jensine Larsen                    80     69\n",
      "Clodine Mbuli Shei                38     61\n",
      "sally  maforchi Mboumien         244     59\n",
      "Soumya Vilekar                   349     58\n",
      "leila Kigha                      104     57\n",
      "Sophia Atadana                    66     54\n",
      "Anjana Vaidya                     60     53\n",
      "Araba                             61     53\n",
      "Immah.Amoit                      101     51\n",
      "Mkandeh                          283     51\n",
      "Feka                             121     51\n",
      "adelejf                           40     51\n",
      "yvoneakoth                        53     50\n",
      "Jolly                             26     50\n",
      "...                              ...    ...\n",
      "M Brewer                           3      0\n",
      "M.RAICHAL DAINA                    2      0\n",
      "M.Rakiya                           1      0\n",
      "MALDIVES MOTHERS                   4      0\n",
      "MAMY AWEKWE                        6      0\n",
      "MAMY FUMU                          6      0\n",
      "MAPENDO MASAWA                     7      0\n",
      "MARCELINE MAKA                     3      0\n",
      "Luka Djedi                         3      0\n",
      "Lucia Sánchez                      0      0\n",
      "Liz Barron                        15      0\n",
      "Lucia Nkomo                        7      0\n",
      "Liz Ny                             2      0\n",
      "Liz4peace                          0      0\n",
      "Liza Pun Magar                     3      0\n",
      "Lizzy123                           2      0\n",
      "Loek                              16      0\n",
      "Lolade                             0      0\n",
      "Loredana                           2      0\n",
      "Loreen Meda                        0      0\n",
      "LorraineAJ                         4      0\n",
      "Lotti                              3      0\n",
      "Lotusa                             4      0\n",
      "Louisa                             2      0\n",
      "Lovarandrianina                    2      0\n",
      "Lovisaalvin                        3      0\n",
      "Lubna Abdelrahman                  2      0\n",
      "Lubwa man                          0      0\n",
      "Lucia Hernandez                    4      0\n",
      "Olubee                            49      0\n",
      "\n",
      "[3228 rows x 2 columns]\n"
     ]
    }
   ],
   "source": [
    "import pandas as pd\n",
    "\n",
    "df1 = pd.read_csv(\"c:\\\\users\\\\muralid\\\\Documents\\\\wpCommunity_1.csv\")\n",
    "df2 = pd.read_csv(\"c:\\\\users\\\\muralid\\\\Documents\\\\wpCommunity_2.csv\")\n",
    "frames = [df1, df2]\n",
    "df = pd.concat(frames)\n",
    "print(df.shape)\n",
    "#df[df['UserName'] == 'Diane DeVillers']\n",
    "#print(df.groupby('Country').size().sort_values(ascending = False))\n",
    "#print(df.groupby('UserName').size().sort_values(ascending = False))\n",
    "#print(df.groupby('UserName').sum().sort_values(by='Loves',ascending = False))\n",
    "print(df.groupby('UserName').sum().sort_values(by='Encourages',ascending = False))\n",
    "#print(df.groupby('Country').sum().sort_values(by='Loves',ascending = False))\n",
    "#print(df.groupby('Country').sum().sort_values(by='Encourages',ascending = False))"
   ]
  }
 ],
 "metadata": {
  "kernelspec": {
   "display_name": "Python 3",
   "language": "python",
   "name": "python3"
  },
  "language_info": {
   "codemirror_mode": {
    "name": "ipython",
    "version": 3
   },
   "file_extension": ".py",
   "mimetype": "text/x-python",
   "name": "python",
   "nbconvert_exporter": "python",
   "pygments_lexer": "ipython3",
   "version": "3.5.1"
  }
 },
 "nbformat": 4,
 "nbformat_minor": 0
}
