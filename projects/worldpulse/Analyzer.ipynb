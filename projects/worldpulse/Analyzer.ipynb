{
 "cells": [
  {
   "cell_type": "code",
   "execution_count": 43,
   "metadata": {
    "collapsed": false
   },
   "outputs": [
    {
     "data": {
      "text/plain": [
       "(array([   0,    1,    2, ..., 6272, 6273, 6274]),)"
      ]
     },
     "execution_count": 31,
     "metadata": {},
     "output_type": "execute_result"
    }
   ],
   "source": [
    "import pandas as pd\n",
    "import numpy as np\n",
    "from datetime import date, timedelta\n",
    "\n",
    "df1 = pd.read_csv(\"//Users//dineshmurali//Documents//wpcommunitydata//wpCommunity_1.csv\")\n",
    "df2 = pd.read_csv(\"//Users//dineshmurali//Documents//wpcommunitydata//wpCommunity_2.csv\")\n",
    "df3 = pd.read_csv(\"//Users//dineshmurali//Documents//wpcommunitydata//wpCommunity_3.csv\")\n",
    "df4 = pd.read_csv(\"//Users//dineshmurali//Documents//wpcommunitydata//wpCommunity_4.csv\")\n",
    "df5 = pd.read_csv(\"//Users//dineshmurali//Documents//wpcommunitydata//wpCommunity_5.csv\")\n",
    "\n",
    "#df1['Date'] = df1[datetime.date.today().strftime(\"%B %d, %Y\") if df1['Date'] == \"Today\" else df1['Date']]\n",
    "df1['Date'] = np.where(df1['Date'] == \"Today\", date.today().strftime(\"%B %d, %Y\"), df1['Date'])\n",
    "df1['Date'] = np.where(df1['Date'] == \"Yesterday\", (date.today() - timedelta(1)).strftime(\"%B %d, %Y\"), df1['Date'])\n",
    "np.where(df1['Date'])\n",
    "#np.where(int(str(df1['Date'])[-4:]) >= 1900 and int(str(df1['Date'])[-4:]) <= 9999, \n",
    "#                       df1['Date'], \n",
    "#                       df1['Date'] +  ' ' + str(datetime.datetime.now().year()))\n",
    "#df1\n",
    "#frames = [df1, df2, df3, df4]\n",
    "#df = pd.concat(frames)\n",
    "#posts trend, esp from US\n",
    "#plot top 10 contributors\n",
    "#countries posts vs encouragement and love\n",
    "#encouragements by time and language\n",
    "\n",
    "#print(df1.shape)\n",
    "#df[df['UserName'] == 'Diane DeVillers']\n",
    "#print(df.groupby('Country').size().sort_values(ascending = False))\n",
    "#print(df.groupby('UserName').size().sort_values(ascending = False))\n",
    "#print(df.groupby('UserName').sum().sort_values(by='Loves',ascending = False))\n",
    "#print(df.groupby('UserName').sum().sort_values(by='Encourages',ascending = False))\n",
    "#print(df.groupby('Country').sum().sort_values(by='Loves',ascending = False))\n",
    "#print(df.groupby('Country').sum().sort_values(by='Encourages',ascending = False))"
   ]
  }
 ],
 "metadata": {
  "kernelspec": {
   "display_name": "Python 3",
   "language": "python",
   "name": "python3"
  },
  "language_info": {
   "codemirror_mode": {
    "name": "ipython",
    "version": 3
   },
   "file_extension": ".py",
   "mimetype": "text/x-python",
   "name": "python",
   "nbconvert_exporter": "python",
   "pygments_lexer": "ipython3",
   "version": "3.5.1"
  }
 },
 "nbformat": 4,
 "nbformat_minor": 0
}
