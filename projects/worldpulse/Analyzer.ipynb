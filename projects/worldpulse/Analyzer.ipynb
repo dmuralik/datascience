{
 "cells": [
  {
   "cell_type": "code",
   "execution_count": 132,
   "metadata": {
    "collapsed": false
   },
   "outputs": [
    {
     "ename": "ValueError",
     "evalue": "Could not interpret input 'Year'",
     "output_type": "error",
     "traceback": [
      "\u001b[1;31m---------------------------------------------------------------------------\u001b[0m",
      "\u001b[1;31mValueError\u001b[0m                                Traceback (most recent call last)",
      "\u001b[1;32m<ipython-input-132-9c155c6605a7>\u001b[0m in \u001b[0;36m<module>\u001b[1;34m()\u001b[0m\n\u001b[0;32m     59\u001b[0m \u001b[1;31m#df[(df.UserName == \"Diane DeVillers\") & (df.Year > 1900)].groupby(\"Year\").size()\u001b[0m\u001b[1;33m\u001b[0m\u001b[1;33m\u001b[0m\u001b[0m\n\u001b[0;32m     60\u001b[0m \u001b[1;33m\u001b[0m\u001b[0m\n\u001b[1;32m---> 61\u001b[1;33m \u001b[0msns\u001b[0m\u001b[1;33m.\u001b[0m\u001b[0mcountplot\u001b[0m\u001b[1;33m(\u001b[0m\u001b[0mx\u001b[0m\u001b[1;33m=\u001b[0m\u001b[1;34m\"Year\"\u001b[0m\u001b[1;33m,\u001b[0m \u001b[0mhue\u001b[0m\u001b[1;33m=\u001b[0m\u001b[1;34m\"Country\"\u001b[0m\u001b[1;33m,\u001b[0m \u001b[0mdata\u001b[0m \u001b[1;33m=\u001b[0m \u001b[0mdf\u001b[0m\u001b[1;33m.\u001b[0m\u001b[0mgroupby\u001b[0m\u001b[1;33m(\u001b[0m\u001b[1;34m'Year'\u001b[0m\u001b[1;33m)\u001b[0m\u001b[1;33m.\u001b[0m\u001b[0msize\u001b[0m\u001b[1;33m(\u001b[0m\u001b[1;33m)\u001b[0m\u001b[1;33m.\u001b[0m\u001b[0msort_values\u001b[0m\u001b[1;33m(\u001b[0m\u001b[0mascending\u001b[0m \u001b[1;33m=\u001b[0m \u001b[1;32mFalse\u001b[0m\u001b[1;33m)\u001b[0m\u001b[1;33m[\u001b[0m\u001b[1;33m:\u001b[0m\u001b[1;36m10\u001b[0m\u001b[1;33m]\u001b[0m\u001b[1;33m,\u001b[0m \u001b[0mpalette\u001b[0m\u001b[1;33m=\u001b[0m\u001b[1;34m\"Greens_d\"\u001b[0m\u001b[1;33m)\u001b[0m\u001b[1;33m\u001b[0m\u001b[0m\n\u001b[0m",
      "\u001b[1;32mC:\\Users\\muralid\\AppData\\Local\\Continuum\\Miniconda3\\lib\\site-packages\\seaborn\\categorical.py\u001b[0m in \u001b[0;36mcountplot\u001b[1;34m(x, y, hue, data, order, hue_order, orient, color, palette, saturation, ax, **kwargs)\u001b[0m\n\u001b[0;32m   3193\u001b[0m                           \u001b[0mestimator\u001b[0m\u001b[1;33m,\u001b[0m \u001b[0mci\u001b[0m\u001b[1;33m,\u001b[0m \u001b[0mn_boot\u001b[0m\u001b[1;33m,\u001b[0m \u001b[0munits\u001b[0m\u001b[1;33m,\u001b[0m\u001b[1;33m\u001b[0m\u001b[0m\n\u001b[0;32m   3194\u001b[0m                           \u001b[0morient\u001b[0m\u001b[1;33m,\u001b[0m \u001b[0mcolor\u001b[0m\u001b[1;33m,\u001b[0m \u001b[0mpalette\u001b[0m\u001b[1;33m,\u001b[0m \u001b[0msaturation\u001b[0m\u001b[1;33m,\u001b[0m\u001b[1;33m\u001b[0m\u001b[0m\n\u001b[1;32m-> 3195\u001b[1;33m                           errcolor)\n\u001b[0m\u001b[0;32m   3196\u001b[0m \u001b[1;33m\u001b[0m\u001b[0m\n\u001b[0;32m   3197\u001b[0m     \u001b[0mplotter\u001b[0m\u001b[1;33m.\u001b[0m\u001b[0mvalue_label\u001b[0m \u001b[1;33m=\u001b[0m \u001b[1;34m\"count\"\u001b[0m\u001b[1;33m\u001b[0m\u001b[0m\n",
      "\u001b[1;32mC:\\Users\\muralid\\AppData\\Local\\Continuum\\Miniconda3\\lib\\site-packages\\seaborn\\categorical.py\u001b[0m in \u001b[0;36m__init__\u001b[1;34m(self, x, y, hue, data, order, hue_order, estimator, ci, n_boot, units, orient, color, palette, saturation, errcolor)\u001b[0m\n\u001b[0;32m   1519\u001b[0m         \u001b[1;34m\"\"\"Initialize the plotter.\"\"\"\u001b[0m\u001b[1;33m\u001b[0m\u001b[0m\n\u001b[0;32m   1520\u001b[0m         self.establish_variables(x, y, hue, data, orient,\n\u001b[1;32m-> 1521\u001b[1;33m                                  order, hue_order, units)\n\u001b[0m\u001b[0;32m   1522\u001b[0m         \u001b[0mself\u001b[0m\u001b[1;33m.\u001b[0m\u001b[0mestablish_colors\u001b[0m\u001b[1;33m(\u001b[0m\u001b[0mcolor\u001b[0m\u001b[1;33m,\u001b[0m \u001b[0mpalette\u001b[0m\u001b[1;33m,\u001b[0m \u001b[0msaturation\u001b[0m\u001b[1;33m)\u001b[0m\u001b[1;33m\u001b[0m\u001b[0m\n\u001b[0;32m   1523\u001b[0m         \u001b[0mself\u001b[0m\u001b[1;33m.\u001b[0m\u001b[0mestimate_statistic\u001b[0m\u001b[1;33m(\u001b[0m\u001b[0mestimator\u001b[0m\u001b[1;33m,\u001b[0m \u001b[0mci\u001b[0m\u001b[1;33m,\u001b[0m \u001b[0mn_boot\u001b[0m\u001b[1;33m)\u001b[0m\u001b[1;33m\u001b[0m\u001b[0m\n",
      "\u001b[1;32mC:\\Users\\muralid\\AppData\\Local\\Continuum\\Miniconda3\\lib\\site-packages\\seaborn\\categorical.py\u001b[0m in \u001b[0;36mestablish_variables\u001b[1;34m(self, x, y, hue, data, orient, order, hue_order, units)\u001b[0m\n\u001b[0;32m    145\u001b[0m                 \u001b[1;32mif\u001b[0m \u001b[0misinstance\u001b[0m\u001b[1;33m(\u001b[0m\u001b[0minput\u001b[0m\u001b[1;33m,\u001b[0m \u001b[0mstring_types\u001b[0m\u001b[1;33m)\u001b[0m\u001b[1;33m:\u001b[0m\u001b[1;33m\u001b[0m\u001b[0m\n\u001b[0;32m    146\u001b[0m                     \u001b[0merr\u001b[0m \u001b[1;33m=\u001b[0m \u001b[1;34m\"Could not interpret input '{}'\"\u001b[0m\u001b[1;33m.\u001b[0m\u001b[0mformat\u001b[0m\u001b[1;33m(\u001b[0m\u001b[0minput\u001b[0m\u001b[1;33m)\u001b[0m\u001b[1;33m\u001b[0m\u001b[0m\n\u001b[1;32m--> 147\u001b[1;33m                     \u001b[1;32mraise\u001b[0m \u001b[0mValueError\u001b[0m\u001b[1;33m(\u001b[0m\u001b[0merr\u001b[0m\u001b[1;33m)\u001b[0m\u001b[1;33m\u001b[0m\u001b[0m\n\u001b[0m\u001b[0;32m    148\u001b[0m \u001b[1;33m\u001b[0m\u001b[0m\n\u001b[0;32m    149\u001b[0m             \u001b[1;31m# Figure out the plotting orientation\u001b[0m\u001b[1;33m\u001b[0m\u001b[1;33m\u001b[0m\u001b[0m\n",
      "\u001b[1;31mValueError\u001b[0m: Could not interpret input 'Year'"
     ]
    }
   ],
   "source": [
    "import pandas as pd\n",
    "import numpy as np\n",
    "from datetime import date, timedelta\n",
    "import datetime\n",
    "import seaborn as sns\n",
    "import matplotlib as mpl\n",
    "import matplotlib.pyplot as plt\n",
    "\n",
    "sns.set(style=\"whitegrid\", color_codes=True)\n",
    "%matplotlib inline\n",
    "\n",
    "df1 = pd.read_csv(\"c:\\\\users\\\\muralid\\\\Documents\\\\wpcommunitydata\\\\wpCommunity_1.csv\")\n",
    "df2 = pd.read_csv(\"c:\\\\users\\\\muralid\\\\Documents\\\\wpcommunitydata\\\\wpCommunity_2.csv\")\n",
    "df3 = pd.read_csv(\"c:\\\\users\\\\muralid\\\\Documents\\\\wpcommunitydata\\\\wpCommunity_3.csv\")\n",
    "df4 = pd.read_csv(\"c:\\\\users\\\\muralid\\\\Documents\\\\wpcommunitydata\\\\wpCommunity_4.csv\")\n",
    "df5 = pd.read_csv(\"c:\\\\users\\\\muralid\\\\Documents\\\\wpcommunitydata\\\\wpCommunity_5.csv\")\n",
    "\n",
    "frames = [df1, df2, df3, df4, df5]\n",
    "df = pd.concat(frames)\n",
    "\n",
    "df['Date'] = np.where(df['Date'] == \"Today\", date.today().strftime(\"%B %d, %Y\"), df['Date'])\n",
    "df['Date'] = np.where(df['Date'] == \"Yesterday\", \n",
    "                      (date.today() - timedelta(1)).strftime(\"%B %d, %Y\"), \n",
    "                      df['Date'])\n",
    "df['Date'] = df['Date'].fillna(value = \"Jan 1, 1900\")\n",
    "df['Date'] = np.where(df.Date.str[-4:].str.isnumeric(), \n",
    "                      df['Date'], \n",
    "                      df['Date'] + ',' + str(datetime.datetime.today().year))\n",
    "df['Country'] = df['Country'].fillna(value = 'Unknown')\n",
    "df['Date'] = pd.DatetimeIndex(df.Date)\n",
    "df['YrMo'] = pd.DatetimeIndex(df.Date).strftime(\"%B%Y\")\n",
    "df['Year'] = pd.DatetimeIndex(df.Date).year\n",
    "\n",
    "#posts trend, esp from US\n",
    "#plot top 10 contributors\n",
    "#countries posts vs encouragement and love\n",
    "#encouragements by time and language\n",
    "\n",
    "#print(df1.shape)\n",
    "#df[df['UserName'] == 'Diane DeVillers']\n",
    "#print(df.groupby('Year').size().sort_values(ascending = False))\n",
    "#print(df.groupby(['Year','Country']).size().sort_values(ascending = False))\n",
    "#print(df.groupby('UserName').size().sort_values(ascending = False))\n",
    "#print(df.groupby('UserName').sum().sort_values(by='Loves',ascending = False))\n",
    "#print(df.groupby('UserName').sum().sort_values(by='Encourages',ascending = False))\n",
    "#print(df.groupby('Country').sum().sort_values(by='Loves',ascending = False))\n",
    "#print(df.groupby('Country').sum().sort_values(by='Encourages',ascending = False))\n",
    "#df[df.Year > 1900].groupby('Year').size().plot(title = \"Posts By Year\",\n",
    "#                                               legend = False)\n",
    "\n",
    "#df.groupby('Country').size().sort_values(ascending = False)[:10].plot(\n",
    "#    title = \"Posts By Country\", legend = False, kind = \"pie\")\n",
    "\n",
    "#df[(df.Country == \"United States\") & (df.Year > 1900)].groupby('UserName').size().sort_values(ascending = False)[:10].plot(title = \"Posts By User For US\", legend = False, kind = \"bar\")\n",
    "\n",
    "#df[(df.UserName == \"Diane DeVillers\")].groupby('Year').size().plot(\n",
    "#    title = \"Posts By Diane\", legend = False)\n",
    "\n",
    "#df[(df.UserName == \"Diane DeVillers\") & (df.Year > 1900)].groupby(\"Year\").size()\n",
    "byYearCountry = df[df.Year > 1900].groupby(['Year','Country']).size().sort_values(ascending = False)[:10]\n",
    "#sns.countplot(x=\"Year\", hue=\"Country\", data = df, palette=\"Greens_d\")\n"
   ]
  }
 ],
 "metadata": {
  "kernelspec": {
   "display_name": "Python 3",
   "language": "python",
   "name": "python3"
  },
  "language_info": {
   "codemirror_mode": {
    "name": "ipython",
    "version": 3
   },
   "file_extension": ".py",
   "mimetype": "text/x-python",
   "name": "python",
   "nbconvert_exporter": "python",
   "pygments_lexer": "ipython3",
   "version": "3.5.1"
  }
 },
 "nbformat": 4,
 "nbformat_minor": 0
}
